{
 "cells": [
  {
   "cell_type": "markdown",
   "metadata": {},
   "source": [
    "# **Mobile Air Quality Monitoring in the Salt Lake Valley (could be changed to reflect our specific story too)**\n",
    "## _Subtitle_\n",
    "**COMP 5960: Applied Data Visualization Final Project - Fall 2023**  \n",
    "**Authors:** Tony Le (u1368721), Adrian Martino (u1431239), John Stevens (u1117706)  \n",
    "**GitHub Repository:** https://github.com/anth0nyhle/MobileAirQualitySLV  \n",
    "**Date:** 04 December 2023"
   ]
  },
  {
   "cell_type": "markdown",
   "metadata": {},
   "source": [
    "The Salt Lake Valley (SLV), like many urban areas, faces challenges related to air quality due to factors such as industrial emissions, traffic, and weather conditions that can trap pollutants in the valley. With a population of just over 1 million people, the SLV sees an annual average of 40 days where pollutant levels exceed the US National Ambient Air Quality Standards (NAAQS) [1]. These exceedances result from a combination of meteorological patterns, unique topography, and emissions in the SLV."
   ]
  },
  {
   "cell_type": "markdown",
   "metadata": {},
   "source": [
    "![](./images/slv_inversion_20230203.png)\n",
    "\n",
    "_Unhealthy air quality settles over Salt Lake Valley on Friday, February 3, 2023. (Source: [Salt Lake Tribune](https://www.sltrib.com/news/environment/2023/02/03/salt-lake-heading-into-worst/), Francisco Kjolseth)_"
   ]
  },
  {
   "cell_type": "markdown",
   "metadata": {},
   "source": [
    "During winter, elevated levels of PM2.5 are a concern, primarily due to emissions accumulating in persistent cold air pools, also known as temperature inversions. On average, the SLV experiences 6.8 temperature inversions each winter, lasting 3.1 days [2]. This exceeds the NAAQS for PM2.5 of 35 µg/m3 for an average of 18 days per winter [2]. Average winter temperatures range from 3.5°C to -6°C, with an average snowfall of 110 cm. The presence of snow cover helps reflect sunlight, maintaining cool surface temperatures and intensifying these wintertime temperature inversions. In contrast, average summer temperatures range from 32°C to 16°C."
   ]
  },
  {
   "cell_type": "markdown",
   "metadata": {},
   "source": [
    "However, prolonged periods of heat and stagnation occur due to high-pressure ridges over the Western US. These conditions, coupled with emissions from urban areas and wildfire smoke, contribute to elevated ground-level ozone production, which exceeds the NAAQS on an average of 22 days each year [3]."
   ]
  },
  {
   "cell_type": "markdown",
   "metadata": {},
   "source": [
    "As an SLV resident, these NAAQS exceedances in PM2.5, contributing to poor air quality in the valley, are concerning. Poor air quality can have significant health effects, such as exacerbating respiratory conditions and increasing the risk of cardiovascular diseases. Additionally, it's important to note that poor air quality has a more pronounced effect on the West side, an area with a higher proportion of minority residents and generally lower income levels. "
   ]
  },
  {
   "cell_type": "code",
   "execution_count": null,
   "metadata": {},
   "outputs": [],
   "source": [
    "# Tony will put socioecon maps here"
   ]
  },
  {
   "cell_type": "markdown",
   "metadata": {},
   "source": [
    "While numerous articles address and highlight these disparities, we have yet to come across easily understandable and impactful visuals designed for the general public. Academic papers and in-depth studies, while informative, are not the most effective means of conveying this message to a broader audience due to their academic nature. Therefore, we are motivated to bring awareness to this issue and enable easier access to high-quality data for the public, voters, and legislators to assess its impact on public health, identify at-risk populations, and develop strategies for mitigating health risks."
   ]
  },
  {
   "cell_type": "markdown",
   "metadata": {},
   "source": [
    "Fortunately, the Department of Atmospheric Sciences at the University of Utah has implemented mobile air quality monitoring platforms on electric public transit vehicles that transect the SLV to observe the air quality on a more local level and offer insights into how air quality differs temporally and spatially [4]. This data can provide important insights that inform the creation of effective policies and standards to protect the environment and public health. Furthermore, air quality is closely related to climate change. This mobile monitoring of air quality data can help track emissions of greenhouse gasses and other pollutants, contributing to a better understanding of climate change and efforts to mitigate its effects."
   ]
  },
  {
   "cell_type": "markdown",
   "metadata": {},
   "source": []
  },
  {
   "cell_type": "markdown",
   "metadata": {},
   "source": []
  },
  {
   "cell_type": "markdown",
   "metadata": {},
   "source": [
    "### References\n",
    "1. Mitchell LE, Crosman ET, Jacques AA, Fasoli B, Leclair-Marzolf L, Horel J, Bowling DR, Ehleringer JR, Lin JC. Monitoring of greenhouse gases and pollutants across an urban area using a light-rail public transit platform. Atmospheric Environment. 2018 Aug 1;187:9-23.\n",
    "2. Whiteman CD, Hoch SW, Horel JD, Charland A. Relationship between particulate air pollution and meteorological variables in Utah's Salt Lake Valley. Atmospheric Environment. 2014 Sep 1;94:742-53.\n",
    "3. Horel J, Crosman E, Jacques A, Blaylock B, Arens S, Long A, Sohl J, Martin R. Summer ozone concentrations in the vicinity of the Great Salt Lake. Atmospheric Science Letters. 2016 Sep;17(9):480-6.\n",
    "4. Mendoza DL, Crosman ET, Mitchell LE, Jacques AA, Fasoli B, Park AM, Lin JC, Horel JD. The TRAX light-rail train air quality observation project. Urban Science. 2019 Dec 1;3(4):108.\n",
    "5. Lin JC, Mitchell L, Crosman E, Mendoza DL, Buchert M, Bares R, Fasoli B, Bowling DR, Pataki D, Catharine D, Strong C. CO2 and carbon emissions from cities: Linkages to air quality, socioeconomic activity, and stakeholders in the Salt Lake City urban area. Bulletin of the American Meteorological Society. 2018 Nov 1;99(11):2325-39.\n"
   ]
  }
 ],
 "metadata": {
  "kernelspec": {
   "display_name": "base",
   "language": "python",
   "name": "python3"
  },
  "language_info": {
   "name": "python",
   "version": "3.11.5"
  }
 },
 "nbformat": 4,
 "nbformat_minor": 2
}
